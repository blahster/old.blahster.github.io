{
 "metadata": {
  "name": "",
  "signature": "sha256:78064a84ebf8e8dbafa36bbfe3184186646c84f33cd3e0301a95ed51bba20c05"
 },
 "nbformat": 3,
 "nbformat_minor": 0,
 "worksheets": [
  {
   "cells": [
    {
     "cell_type": "heading",
     "level": 1,
     "metadata": {},
     "source": [
      "Trying out Ipython notebook as a blog"
     ]
    },
    {
     "cell_type": "markdown",
     "metadata": {},
     "source": [
      "Just some random text"
     ]
    },
    {
     "cell_type": "markdown",
     "metadata": {},
     "source": [
      "Nothing here, move on"
     ]
    },
    {
     "cell_type": "code",
     "collapsed": false,
     "input": [
      "%pylab inline"
     ],
     "language": "python",
     "metadata": {},
     "outputs": [
      {
       "output_type": "stream",
       "stream": "stdout",
       "text": [
        "Populating the interactive namespace from numpy and matplotlib\n"
       ]
      }
     ],
     "prompt_number": 2
    },
    {
     "cell_type": "code",
     "collapsed": false,
     "input": [
      "plot(rand(50))"
     ],
     "language": "python",
     "metadata": {},
     "outputs": [
      {
       "metadata": {},
       "output_type": "pyout",
       "prompt_number": 4,
       "text": [
        "[<matplotlib.lines.Line2D at 0x10ab03750>]"
       ]
      },
      {
       "metadata": {},
       "output_type": "display_data",
       "png": "[encoded data removed]",
       "text": [
        "<matplotlib.figure.Figure at 0x10820a390>"
       ]
      }
     ],
     "prompt_number": 4
    },
    {
     "cell_type": "markdown",
     "metadata": {},
     "source": [
      "Let's try some markdown.\n",
      "\n",
      "This should be a new paragraph.  \n",
      "The second line of the paragraph because there are two spaces and a CR at the end of the previous line. This sentence just continues."
     ]
    },
    {
     "cell_type": "markdown",
     "metadata": {},
     "source": [
      "This should be a heading level 1\n",
      "=="
     ]
    },
    {
     "cell_type": "markdown",
     "metadata": {},
     "source": [
      "The previous line is a heading level 1 because there are a few '='s just after the heading."
     ]
    },
    {
     "cell_type": "markdown",
     "metadata": {},
     "source": [
      "This is a heading level 2\n",
      "--"
     ]
    },
    {
     "cell_type": "markdown",
     "metadata": {},
     "source": [
      "Let's try some lists."
     ]
    },
    {
     "cell_type": "markdown",
     "metadata": {},
     "source": [
      "* one\n",
      "* two\n",
      "* three\n",
      "\n",
      "\n",
      "1. one\n",
      "1. two\n",
      "1. three"
     ]
    },
    {
     "cell_type": "markdown",
     "metadata": {},
     "source": [
      "Note that there are two empty lines after the first list (otherwise it would just continue with the bullets."
     ]
    },
    {
     "cell_type": "markdown",
     "metadata": {},
     "source": [
      "The following\n",
      "\n",
      "    is a code block\n",
      "    with two lines in it\n",
      "\n",
      "and we're back to normal"
     ]
    },
    {
     "cell_type": "markdown",
     "metadata": {},
     "source": [
      "There's always the handy [reference](http://daringfireball.net/projects/markdown/syntax) to go back to.  \n",
      "There must be cheatsheet somewhere; will link to it later"
     ]
    },
    {
     "cell_type": "code",
     "collapsed": false,
     "input": [],
     "language": "python",
     "metadata": {},
     "outputs": []
    }
   ],
   "metadata": {}
  }
 ]
}